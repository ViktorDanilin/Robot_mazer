{
 "cells": [
  {
   "cell_type": "code",
   "execution_count": 2,
   "metadata": {
    "scrolled": true
   },
   "outputs": [],
   "source": [
    "import cv2 as cv\n",
    "import numpy as np\n",
    "import time\n",
    "\n",
    "cap=cv.VideoCapture(0)\n",
    "\n",
    "hb = cv.imread(\"hb.png\")\n",
    "sb = cv.imread(\"sb.png\")\n",
    "ub = cv.imread(\"ub.png\")\n",
    "hb = cv.resize(hb,(64,64))\n",
    "sb = cv.resize(sb,(64,64))\n",
    "ub = cv.resize(ub,(64,64))\n",
    "hb = cv.inRange(hb,(0,0,0),(255,255,72))\n",
    "sb = cv.inRange(sb,(0,0,0),(255,255,72))\n",
    "ub = cv.inRange(ub,(0,0,0),(255,255,72))\n",
    "cv.imshow(\"h\",hb)\n",
    "cv.imshow(\"s\",sb)\n",
    "cv.imshow(\"u\",ub)\n",
    "\n",
    "while(True):\n",
    "  time.sleep(0.3)\n",
    "  ret,frame=cap.read()\n",
    "\n",
    "  hsv = cv.cvtColor(frame,cv.COLOR_BGR2HSV)\n",
    "  hsv = cv.blur(hsv,(5,5))\n",
    "    \n",
    "  mask = cv.inRange(hsv,(0,0,0),(255,255,72))\n",
    "  mask = cv.erode(mask,(6,6),iterations=3)\n",
    "  mask = cv.dilate(mask,(3,3),iterations=4)\n",
    "  \n",
    "  contours = cv.findContours(mask,cv.RETR_TREE,cv.CHAIN_APPROX_NONE)\n",
    "  contours = contours[0]\n",
    "  if contours:\n",
    "    contours = sorted(contours,key=cv.contourArea,reverse = True)\n",
    "    cv.drawContours(frame,contours,0,(0,0,225),2)\n",
    "    (x,y,w,h)=cv.boundingRect(contours[0])\n",
    "    cv.rectangle(frame,(x,y),(x+w,y+h),(0,225,0),2)\n",
    "    roImg=frame[y:y+h,x:x+w]\n",
    "    roImg = cv.resize(roImg,(64,64))\n",
    "    roImg = cv.inRange(roImg,(0,0,0),(255,255,72))\n",
    "    cv.imshow(\"res\",roImg)\n",
    "    hb_val = 0\n",
    "    sb_val = 0\n",
    "    ub_val = 0 \n",
    "    for i in range(64):\n",
    "        for j in range(64):\n",
    "            if roImg[i][j]==hb[i][j]:\n",
    "                hb_val=hb_val+1\n",
    "            if roImg[i][j]==sb[i][j]:\n",
    "                sb_val=sb_val+1\n",
    "            if roImg[i][j]==ub[i][j]:\n",
    "                ub_val=ub_val+1\n",
    "    if (hb_val > 3000):\n",
    "        print(\"буква H\")\n",
    "    if (sb_val > 2800):\n",
    "        print(\"буква S\")\n",
    "    if (ub_val > 2800):\n",
    "        print(\"буква U\")\n",
    "    else:\n",
    "        print(\"ничего\")\n",
    "  if cv.waitKey(1)==ord(\"q\"):\n",
    "      break\n",
    "cap.release()\n",
    "cv.destroyAllWindows()\n",
    "\n",
    "\n",
    "\n"
   ]
  },
  {
   "cell_type": "code",
   "execution_count": null,
   "metadata": {},
   "outputs": [],
   "source": []
  }
 ],
 "metadata": {
  "kernelspec": {
   "display_name": "Python 3",
   "language": "python",
   "name": "python3"
  },
  "language_info": {
   "codemirror_mode": {
    "name": "ipython",
    "version": 3
   },
   "file_extension": ".py",
   "mimetype": "text/x-python",
   "name": "python",
   "nbconvert_exporter": "python",
   "pygments_lexer": "ipython3",
   "version": "3.7.3"
  }
 },
 "nbformat": 4,
 "nbformat_minor": 2
}
