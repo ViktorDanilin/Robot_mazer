{
 "cells": [
  {
   "cell_type": "code",
   "execution_count": 2,
   "metadata": {},
   "outputs": [],
   "source": [
    "import cv2\n",
    "def nothing(x):\n",
    "    pass\n",
    "\n",
    "cap=cv2.VideoCapture(0)\n",
    "\n",
    "cv2.namedWindow(\"result\")\n",
    "cv2.createTrackbar(\"minb\",\"result\",0,255,nothing)\n",
    "cv2.createTrackbar(\"ming\",\"result\",0,255,nothing)\n",
    "cv2.createTrackbar(\"minr\",\"result\",0,255,nothing)\n",
    "\n",
    "cv2.createTrackbar(\"maxb\",\"result\",0,255,nothing)\n",
    "cv2.createTrackbar(\"maxg\",\"result\",0,255,nothing)\n",
    "cv2.createTrackbar(\"maxr\",\"result\",0,255,nothing)\n",
    "\n",
    "\n",
    "while(True):\n",
    "\n",
    "  ret,frame=cap.read()\n",
    "  hsv = cv2.cvtColor(frame,cv2.COLOR_BGR2HSV)\n",
    "  cv2.imshow(\"hsv\",hsv)\n",
    "  minb = cv2.getTrackbarPos(\"minb\",\"result\")\n",
    "  ming = cv2.getTrackbarPos(\"ming\", \"result\")\n",
    "  minr = cv2.getTrackbarPos(\"minr\", \"result\")\n",
    "\n",
    "  maxb = cv2.getTrackbarPos(\"maxb\", \"result\")\n",
    "  maxg = cv2.getTrackbarPos(\"maxg\", \"result\")\n",
    "  maxr = cv2.getTrackbarPos(\"maxr\", \"result\")\n",
    "\n",
    "\n",
    "\n",
    "  mask = cv2.inRange(hsv,(minb,ming,minr),(maxb,maxg,maxr))\n",
    "  cv2.imshow(\"mask\",mask)\n",
    "  maskEr=cv2.erode(mask,(5,5),iterations=2)\n",
    "  cv2.imshow(\"maskEr\",maskEr)\n",
    "  result = cv2.bitwise_and(frame,frame, mask = mask)\n",
    "  cv2.imshow(\"result\",result)\n",
    "  if cv2.waitKey(1)==ord(\"q\"):\n",
    "      break\n",
    "cap.release()\n",
    "cv2.destroyAllWindows()\n",
    "\n"
   ]
  },
  {
   "cell_type": "code",
   "execution_count": null,
   "metadata": {},
   "outputs": [],
   "source": []
  }
 ],
 "metadata": {
  "kernelspec": {
   "display_name": "Python 3",
   "language": "python",
   "name": "python3"
  },
  "language_info": {
   "codemirror_mode": {
    "name": "ipython",
    "version": 3
   },
   "file_extension": ".py",
   "mimetype": "text/x-python",
   "name": "python",
   "nbconvert_exporter": "python",
   "pygments_lexer": "ipython3",
   "version": "3.7.3"
  }
 },
 "nbformat": 4,
 "nbformat_minor": 2
}
